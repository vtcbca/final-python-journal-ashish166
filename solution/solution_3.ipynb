{
 "cells": [
  {
   "cell_type": "code",
   "execution_count": 1,
   "id": "dc8b1b04",
   "metadata": {},
   "outputs": [],
   "source": [
    "import csv"
   ]
  },
  {
   "cell_type": "code",
   "execution_count": 2,
   "id": "ff0b8d28",
   "metadata": {},
   "outputs": [
    {
     "name": "stdout",
     "output_type": "stream",
     "text": [
      "csv created\n"
     ]
    }
   ],
   "source": [
    "header=[\"Empid\",\"Empname\",\"Department\",\"Experience\",\"Salary\"]\n",
    "record=[[1,\"om\",\"bca\",2,6000],[2,\"sai\",\"bba\",3,7000],[3,\"ram\",\"bca\",1,5000],[4,\"shiv\",\"bba\",4,9000],[5,\"shambhu\",\"bca\",4,10000]]\n",
    "with open('salary.csv','w',newline=\"\") as obj:\n",
    "    write=csv.writer(obj)\n",
    "    write.writerow(header)\n",
    "    write.writerows(record)\n",
    "    print(\"csv created\")"
   ]
  },
  {
   "cell_type": "code",
   "execution_count": 3,
   "id": "ddbbfc60",
   "metadata": {},
   "outputs": [
    {
     "name": "stdout",
     "output_type": "stream",
     "text": [
      "['Empid', 'Empname', 'Department', 'Experience', 'Salary']\n",
      "['1', 'om', 'bca', '2', '6000']\n",
      "['2', 'sai', 'bba', '3', '7000']\n",
      "['3', 'ram', 'bca', '1', '5000']\n",
      "['4', 'shiv', 'bba', '4', '9000']\n",
      "['5', 'shambhu', 'bca', '4', '10000']\n"
     ]
    }
   ],
   "source": [
    "o=open(\"salary.csv\",\"r\")\n",
    "r=csv.reader(o)\n",
    "for n in r:\n",
    "    print(n)"
   ]
  },
  {
   "cell_type": "code",
   "execution_count": 4,
   "id": "9228296e",
   "metadata": {},
   "outputs": [
    {
     "name": "stdout",
     "output_type": "stream",
     "text": [
      "Added\n"
     ]
    }
   ],
   "source": [
    "add=[[6,\"Narayan\",\"bca\",3,6000],[7,\"Vishnu\",\"bba\",5,8000]]\n",
    "with open('salary.csv','a',newline=\"\") as app:\n",
    "    w=csv.writer(app)\n",
    "    w.writerows(add)\n",
    "    print(\"Added\")\n"
   ]
  },
  {
   "cell_type": "code",
   "execution_count": 5,
   "id": "f83f3799",
   "metadata": {},
   "outputs": [
    {
     "name": "stdout",
     "output_type": "stream",
     "text": [
      "['Empid', 'Empname', 'Department', 'Experience', 'Salary']\n",
      "['1', 'om', 'bca', '2', '6000']\n",
      "['2', 'sai', 'bba', '3', '7000']\n",
      "['3', 'ram', 'bca', '1', '5000']\n",
      "['4', 'shiv', 'bba', '4', '9000']\n",
      "['5', 'shambhu', 'bca', '4', '10000']\n",
      "['6', 'Narayan', 'bca', '3', '6000']\n",
      "['7', 'Vishnu', 'bba', '5', '8000']\n"
     ]
    }
   ],
   "source": [
    "o=open(\"salary.csv\",\"r\")\n",
    "r=csv.reader(o)\n",
    "for n in r:\n",
    "    print(n)\n"
   ]
  },
  {
   "cell_type": "code",
   "execution_count": 6,
   "id": "c22e09f0",
   "metadata": {},
   "outputs": [
    {
     "name": "stdout",
     "output_type": "stream",
     "text": [
      "imported\n"
     ]
    }
   ],
   "source": [
    "import pandas as pd\n",
    "d=pd.read_csv(\"salary.csv\")\n",
    "df=pd.DataFrame(d)\n",
    "print(\"imported\")"
   ]
  },
  {
   "cell_type": "code",
   "execution_count": 7,
   "id": "4533175f",
   "metadata": {},
   "outputs": [
    {
     "data": {
      "text/plain": [
       "0     6000\n",
       "2     5000\n",
       "4    10000\n",
       "5     6000\n",
       "Name: Salary, dtype: int64"
      ]
     },
     "execution_count": 7,
     "metadata": {},
     "output_type": "execute_result"
    }
   ],
   "source": [
    "df.loc[df['Department']=='bca','Salary']\n"
   ]
  },
  {
   "cell_type": "code",
   "execution_count": 8,
   "id": "e4f35f2d",
   "metadata": {},
   "outputs": [
    {
     "data": {
      "text/html": [
       "<div>\n",
       "<style scoped>\n",
       "    .dataframe tbody tr th:only-of-type {\n",
       "        vertical-align: middle;\n",
       "    }\n",
       "\n",
       "    .dataframe tbody tr th {\n",
       "        vertical-align: top;\n",
       "    }\n",
       "\n",
       "    .dataframe thead th {\n",
       "        text-align: right;\n",
       "    }\n",
       "</style>\n",
       "<table border=\"1\" class=\"dataframe\">\n",
       "  <thead>\n",
       "    <tr style=\"text-align: right;\">\n",
       "      <th></th>\n",
       "      <th>Empid</th>\n",
       "      <th>Empname</th>\n",
       "      <th>Department</th>\n",
       "      <th>Experience</th>\n",
       "      <th>Salary</th>\n",
       "    </tr>\n",
       "  </thead>\n",
       "  <tbody>\n",
       "    <tr>\n",
       "      <th>0</th>\n",
       "      <td>1</td>\n",
       "      <td>om</td>\n",
       "      <td>bca</td>\n",
       "      <td>2</td>\n",
       "      <td>6000</td>\n",
       "    </tr>\n",
       "    <tr>\n",
       "      <th>1</th>\n",
       "      <td>2</td>\n",
       "      <td>sai</td>\n",
       "      <td>bba</td>\n",
       "      <td>3</td>\n",
       "      <td>7000</td>\n",
       "    </tr>\n",
       "    <tr>\n",
       "      <th>2</th>\n",
       "      <td>3</td>\n",
       "      <td>ram</td>\n",
       "      <td>bca</td>\n",
       "      <td>1</td>\n",
       "      <td>5000</td>\n",
       "    </tr>\n",
       "    <tr>\n",
       "      <th>3</th>\n",
       "      <td>4</td>\n",
       "      <td>shiv</td>\n",
       "      <td>bba</td>\n",
       "      <td>4</td>\n",
       "      <td>9000</td>\n",
       "    </tr>\n",
       "    <tr>\n",
       "      <th>4</th>\n",
       "      <td>5</td>\n",
       "      <td>shambhu</td>\n",
       "      <td>bca</td>\n",
       "      <td>4</td>\n",
       "      <td>10000</td>\n",
       "    </tr>\n",
       "    <tr>\n",
       "      <th>5</th>\n",
       "      <td>6</td>\n",
       "      <td>Narayan</td>\n",
       "      <td>bca</td>\n",
       "      <td>3</td>\n",
       "      <td>6000</td>\n",
       "    </tr>\n",
       "    <tr>\n",
       "      <th>6</th>\n",
       "      <td>7</td>\n",
       "      <td>Vishnu</td>\n",
       "      <td>bba</td>\n",
       "      <td>5</td>\n",
       "      <td>8000</td>\n",
       "    </tr>\n",
       "  </tbody>\n",
       "</table>\n",
       "</div>"
      ],
      "text/plain": [
       "   Empid  Empname Department  Experience  Salary\n",
       "0      1       om        bca           2    6000\n",
       "1      2      sai        bba           3    7000\n",
       "2      3      ram        bca           1    5000\n",
       "3      4     shiv        bba           4    9000\n",
       "4      5  shambhu        bca           4   10000\n",
       "5      6  Narayan        bca           3    6000\n",
       "6      7   Vishnu        bba           5    8000"
      ]
     },
     "execution_count": 8,
     "metadata": {},
     "output_type": "execute_result"
    }
   ],
   "source": [
    "df"
   ]
  }
 ],
 "metadata": {
  "kernelspec": {
   "display_name": "Python 3 (ipykernel)",
   "language": "python",
   "name": "python3"
  },
  "language_info": {
   "codemirror_mode": {
    "name": "ipython",
    "version": 3
   },
   "file_extension": ".py",
   "mimetype": "text/x-python",
   "name": "python",
   "nbconvert_exporter": "python",
   "pygments_lexer": "ipython3",
   "version": "3.10.2"
  }
 },
 "nbformat": 4,
 "nbformat_minor": 5
}
