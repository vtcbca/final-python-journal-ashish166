{
 "cells": [
  {
   "cell_type": "markdown",
   "id": "a3c7d208",
   "metadata": {},
   "source": [
    "# Solution 4"
   ]
  },
  {
   "cell_type": "markdown",
   "id": "9543e933",
   "metadata": {},
   "source": [
    "* import pandas library"
   ]
  },
  {
   "cell_type": "code",
   "execution_count": 3,
   "id": "64bb6d2c",
   "metadata": {},
   "outputs": [],
   "source": [
    "import pandas as pd"
   ]
  },
  {
   "cell_type": "markdown",
   "id": "33400ca1",
   "metadata": {},
   "source": [
    "* Create a list consists of ten names. Use the list to store the list elements in DataFrame. Display the created dataframe."
   ]
  },
  {
   "cell_type": "code",
   "execution_count": 4,
   "id": "dcb21235",
   "metadata": {},
   "outputs": [
    {
     "data": {
      "text/html": [
       "<div>\n",
       "<style scoped>\n",
       "    .dataframe tbody tr th:only-of-type {\n",
       "        vertical-align: middle;\n",
       "    }\n",
       "\n",
       "    .dataframe tbody tr th {\n",
       "        vertical-align: top;\n",
       "    }\n",
       "\n",
       "    .dataframe thead th {\n",
       "        text-align: right;\n",
       "    }\n",
       "</style>\n",
       "<table border=\"1\" class=\"dataframe\">\n",
       "  <thead>\n",
       "    <tr style=\"text-align: right;\">\n",
       "      <th></th>\n",
       "      <th>0</th>\n",
       "    </tr>\n",
       "  </thead>\n",
       "  <tbody>\n",
       "    <tr>\n",
       "      <th>0</th>\n",
       "      <td>Om</td>\n",
       "    </tr>\n",
       "    <tr>\n",
       "      <th>1</th>\n",
       "      <td>Sai</td>\n",
       "    </tr>\n",
       "    <tr>\n",
       "      <th>2</th>\n",
       "      <td>Ram</td>\n",
       "    </tr>\n",
       "    <tr>\n",
       "      <th>3</th>\n",
       "      <td>Jay</td>\n",
       "    </tr>\n",
       "    <tr>\n",
       "      <th>4</th>\n",
       "      <td>Shree</td>\n",
       "    </tr>\n",
       "    <tr>\n",
       "      <th>5</th>\n",
       "      <td>Krishna</td>\n",
       "    </tr>\n",
       "    <tr>\n",
       "      <th>6</th>\n",
       "      <td>Namah</td>\n",
       "    </tr>\n",
       "    <tr>\n",
       "      <th>7</th>\n",
       "      <td>Shivay</td>\n",
       "    </tr>\n",
       "    <tr>\n",
       "      <th>8</th>\n",
       "      <td>Narayan</td>\n",
       "    </tr>\n",
       "    <tr>\n",
       "      <th>9</th>\n",
       "      <td>Mahadev</td>\n",
       "    </tr>\n",
       "  </tbody>\n",
       "</table>\n",
       "</div>"
      ],
      "text/plain": [
       "         0\n",
       "0       Om\n",
       "1      Sai\n",
       "2      Ram\n",
       "3      Jay\n",
       "4    Shree\n",
       "5  Krishna\n",
       "6    Namah\n",
       "7   Shivay\n",
       "8  Narayan\n",
       "9  Mahadev"
      ]
     },
     "execution_count": 4,
     "metadata": {},
     "output_type": "execute_result"
    }
   ],
   "source": [
    "a=[\"Om\",\"Sai\",\"Ram\",\"Jay\",\"Shree\",\"Krishna\",\"Namah\",\"Shivay\",\"Narayan\",\"Mahadev\"]\n",
    "df=pd.DataFrame(a)\n",
    "df"
   ]
  },
  {
   "cell_type": "markdown",
   "id": "a1d27ec1",
   "metadata": {},
   "source": [
    "* create DataFrame from dictionary which is consists of lists."
   ]
  },
  {
   "cell_type": "code",
   "execution_count": 5,
   "id": "bf6f1285",
   "metadata": {},
   "outputs": [],
   "source": [
    "d = {'Student': ['Rutvik', 'Pankti', 'Evaan', 'Dhyan'], 'City': ['Pune', 'Delhi', 'Surat', 'Houston'], 'Age': [22, 16, 5, 13]}\n",
    "df=pd.DataFrame(d)\n"
   ]
  },
  {
   "cell_type": "markdown",
   "id": "b8ad6df8",
   "metadata": {},
   "source": [
    "* Display created DataFrame"
   ]
  },
  {
   "cell_type": "code",
   "execution_count": 6,
   "id": "6b213022",
   "metadata": {},
   "outputs": [
    {
     "data": {
      "text/html": [
       "<div>\n",
       "<style scoped>\n",
       "    .dataframe tbody tr th:only-of-type {\n",
       "        vertical-align: middle;\n",
       "    }\n",
       "\n",
       "    .dataframe tbody tr th {\n",
       "        vertical-align: top;\n",
       "    }\n",
       "\n",
       "    .dataframe thead th {\n",
       "        text-align: right;\n",
       "    }\n",
       "</style>\n",
       "<table border=\"1\" class=\"dataframe\">\n",
       "  <thead>\n",
       "    <tr style=\"text-align: right;\">\n",
       "      <th></th>\n",
       "      <th>Student</th>\n",
       "      <th>City</th>\n",
       "      <th>Age</th>\n",
       "    </tr>\n",
       "  </thead>\n",
       "  <tbody>\n",
       "    <tr>\n",
       "      <th>0</th>\n",
       "      <td>Rutvik</td>\n",
       "      <td>Pune</td>\n",
       "      <td>22</td>\n",
       "    </tr>\n",
       "    <tr>\n",
       "      <th>1</th>\n",
       "      <td>Pankti</td>\n",
       "      <td>Delhi</td>\n",
       "      <td>16</td>\n",
       "    </tr>\n",
       "    <tr>\n",
       "      <th>2</th>\n",
       "      <td>Evaan</td>\n",
       "      <td>Surat</td>\n",
       "      <td>5</td>\n",
       "    </tr>\n",
       "    <tr>\n",
       "      <th>3</th>\n",
       "      <td>Dhyan</td>\n",
       "      <td>Houston</td>\n",
       "      <td>13</td>\n",
       "    </tr>\n",
       "  </tbody>\n",
       "</table>\n",
       "</div>"
      ],
      "text/plain": [
       "  Student     City  Age\n",
       "0  Rutvik     Pune   22\n",
       "1  Pankti    Delhi   16\n",
       "2   Evaan    Surat    5\n",
       "3   Dhyan  Houston   13"
      ]
     },
     "execution_count": 6,
     "metadata": {},
     "output_type": "execute_result"
    }
   ],
   "source": [
    "df"
   ]
  }
 ],
 "metadata": {
  "kernelspec": {
   "display_name": "Python 3 (ipykernel)",
   "language": "python",
   "name": "python3"
  },
  "language_info": {
   "codemirror_mode": {
    "name": "ipython",
    "version": 3
   },
   "file_extension": ".py",
   "mimetype": "text/x-python",
   "name": "python",
   "nbconvert_exporter": "python",
   "pygments_lexer": "ipython3",
   "version": "3.10.2"
  }
 },
 "nbformat": 4,
 "nbformat_minor": 5
}
